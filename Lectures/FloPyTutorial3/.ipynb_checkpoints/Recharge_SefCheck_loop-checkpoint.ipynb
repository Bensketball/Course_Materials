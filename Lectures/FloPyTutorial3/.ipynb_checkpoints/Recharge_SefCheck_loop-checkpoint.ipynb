{
 "cells": [
  {
   "cell_type": "markdown",
   "metadata": {},
   "source": [
    "# Recharge and Particles - Self Check Example with a loop\n",
    "\n",
    "## Model Description \n",
    "This is a steady state box model with recharge\n",
    "\n",
    "#### Dimensions: \n",
    "- 25 by 25 by 1\n",
    "- dx = dy = 100 m\n",
    "- dz = 10 m  \n",
    "\n",
    "#### Subsurface Properties: \n",
    "- Homogeneous \n",
    "- K = 1.0 m/day in x and y and 0.1 m/day in z.  \n",
    "- Porosity = 0.35\n",
    "- Specific yield = 0.3\n",
    "- Storage coefficient=0.001  \n",
    "\n",
    "#### Boundary Conditions: \n",
    " - Right boundary is no flow (i.e. a closed basin) \n",
    " - Left boundary is a constant head of 7 m relative to the datum, which is located at the bottom of the domain. \n",
    " - Recharge occurs at a rate of 5E-6 m/d uniformly across the domain\n",
    " \n",
    "### Wells\n",
    " - one well located in row=12, col=12 pumping at a rage of -10 m3/day"
   ]
  },
  {
   "cell_type": "markdown",
   "metadata": {},
   "source": [
    "## 1. Setup the environment"
   ]
  },
  {
   "cell_type": "code",
   "execution_count": 2,
   "metadata": {},
   "outputs": [
    {
     "name": "stdout",
     "output_type": "stream",
     "text": [
      "flopy is installed in c:\\users\\bensk\\appdata\\local\\programs\\python\\python38\\lib\\site-packages\\flopy\n"
     ]
    }
   ],
   "source": [
    "#the basics\n",
    "import flopy\n",
    "import numpy as np\n",
    "import matplotlib as mp\n",
    "import os\n",
    "\n",
    "#additional analysis tools\n",
    "import flopy.utils.binaryfile as bf\n",
    "from mpl_toolkits.mplot3d import Axes3D\n",
    "import matplotlib.pyplot as plt\n",
    "from matplotlib import cm\n",
    "from matplotlib.ticker import LinearLocator, FormatStrFormatter\n",
    "import csv\n",
    "\n",
    "#jupyter specific--included to show plots in notebook\n",
    "%matplotlib inline "
   ]
  },
  {
   "cell_type": "markdown",
   "metadata": {},
   "source": [
    "## 2. Setup the Inputs\n",
    "\n",
    "\n",
    "### Discretization (DIS package)\n",
    "\n",
    "For more details on DIS package inputs refer to : http://modflowpy.github.io/flopydoc/mfdis.html"
   ]
  },
  {
   "cell_type": "code",
   "execution_count": 3,
   "metadata": {},
   "outputs": [],
   "source": [
    "nrow = 25 #number of rows\n",
    "ncol = 25 #number of columns\n",
    "nlay = 1  #number of layers\n",
    "\n",
    "dx= 100 #width of grid cells in x diretion \n",
    "dy= 100 #width of grid cells in y diretion \n",
    "\n",
    "Lx = ncol*dx  #width of domain in x\n",
    "Ly = nrow*dy #width of domain in y\n",
    "ztop = 10.    #top elevation \n",
    "zbot = 0.     #bottom elevation\n",
    "\n",
    "dz = (ztop - zbot) / nlay #cell height in z direction\n",
    "\n",
    "nper = 1 #number of stress periods \n",
    "steady = [True] #list noting the stress period type\n"
   ]
  },
  {
   "cell_type": "markdown",
   "metadata": {},
   "source": [
    "### Constant head boundaries, active cells and initial heads (BAS Package)\n",
    "\n",
    "For more details on the BAS package see: http://modflowpy.github.io/flopydoc/mfbas.html"
   ]
  },
  {
   "cell_type": "code",
   "execution_count": 4,
   "metadata": {},
   "outputs": [],
   "source": [
    "#Define cell activity (IBOUND)\n",
    "#create ibound as array of ints = 1\n",
    "ibound = np.ones((nlay, nrow, ncol), dtype=np.int32) #integer array of dim (z,y,x), makes all cells active                                                     \n",
    "#set constand head boundary on the left\n",
    "ibound[:,:,0] = -1          #replace leftmost column (all zs, all ys, first x) with -1 to indicate constant head \n",
    "\n",
    "#print(\"ibound values: \\n\", ibound)\n",
    "\n",
    "#Define Starting Heads\n",
    "#setup initial heads as 1 everywhere and 7 on the left boundary \n",
    "H_init = np.ones((nlay, nrow, ncol), dtype=np.float32)  #float array (i.e. decimal), sets all heads to 1.0\n",
    "H_init[:, :, 0] = 7    #replace first (left) col with desired head value\n",
    "\n",
    "#print(\"starting head values: \\n\", H_init)"
   ]
  },
  {
   "cell_type": "markdown",
   "metadata": {},
   "source": [
    "### Layer Properties  (LPF Package)\n",
    "\n",
    "For more details on LPF package see: http://modflowpy.github.io/flopydoc/mflpf.html"
   ]
  },
  {
   "cell_type": "code",
   "execution_count": 5,
   "metadata": {},
   "outputs": [],
   "source": [
    "K_horiz = 1.    #horizontal hydraulic conductivity \n",
    "K_vert = 0.1    #assign vertical hydraulic conductivity (along z axis)\n",
    "n = 0.35        #assign porosity\n",
    "Ss = 0.001      #assign storage coefficient\n",
    "Sy = 0.3        #assign specific yield\n",
    "uncnf = 1       #0=confined, >0 = unconfined"
   ]
  },
  {
   "cell_type": "markdown",
   "metadata": {},
   "source": [
    "### Outputs by stress period (OC Package)\n",
    "For more details on OC Package: http://modflowpy.github.io/flopydoc/mfoc.html"
   ]
  },
  {
   "cell_type": "code",
   "execution_count": 6,
   "metadata": {},
   "outputs": [
    {
     "name": "stdout",
     "output_type": "stream",
     "text": [
      "oc stress period data: \n",
      " {(0, 0): ['print head', 'print budget', 'save head', 'save budget']}\n"
     ]
    }
   ],
   "source": [
    "#create oc stress period data. \n",
    "#(0,0) tells OC package to save data for stress period 1, time step 1.\n",
    "spd = {(0,0):['print head', 'print budget', 'save head', 'save budget']} #create a dictionary for stress period data, where key (0,0) is associated with value ['print...'] \n",
    "\n",
    "print(\"oc stress period data: \\n\", spd)"
   ]
  },
  {
   "cell_type": "markdown",
   "metadata": {},
   "source": [
    "### Recharge (RCH Package)\n",
    "For more details on the RCH package see: http://modflowpy.github.io/flopydoc/mfrch.html and https://water.usgs.gov/ogw/modflow/MODFLOW-2005-Guide/index.html?rch.htm"
   ]
  },
  {
   "cell_type": "code",
   "execution_count": 7,
   "metadata": {},
   "outputs": [],
   "source": [
    "#Make recharge scenarios                                  \n",
    "##Recharge:\n",
    "nscen = 2                            #number of different recharge scenarios\n",
    "rech = np.zeros((nscen,nrow,ncol))   #define an array of zeros of dim (nscen,nrow,ncol)\n",
    "rech[0,:,:] = 5e-6                   #define uniform recharge flux (m/day) for 1st scenario\n",
    "rech[1,:,20:25] = 2.4e-5             #define zonal recharge flux (m/day) for 2nd scenario\n"
   ]
  },
  {
   "cell_type": "markdown",
   "metadata": {},
   "source": [
    "### Well Package (WEL)"
   ]
  },
  {
   "cell_type": "code",
   "execution_count": 8,
   "metadata": {},
   "outputs": [
    {
     "name": "stdout",
     "output_type": "stream",
     "text": [
      "Well 1 [layer, row, column, flux]: \n",
      " [0, 12, 12, -10]\n",
      "Well Stress Period Data: \n",
      " {0: [[0, 12, 12, -10]]}\n"
     ]
    }
   ],
   "source": [
    "pumping_rate = -10 #in m^3/d, negative for pumping/positive for injection\n",
    "well_loc=(0,12,12)\n",
    "well_1 = [i for i in well_loc] + [-10]\n",
    "print(\"Well 1 [layer, row, column, flux]: \\n\", well_1)\n",
    "\n",
    "wel_spd = {0: [well_1]}\n",
    "print(\"Well Stress Period Data: \\n\", wel_spd)"
   ]
  },
  {
   "cell_type": "markdown",
   "metadata": {},
   "source": [
    "## 3. Build packages, write inputs and run within a lop"
   ]
  },
  {
   "cell_type": "code",
   "execution_count": 9,
   "metadata": {},
   "outputs": [
    {
     "name": "stdout",
     "output_type": "stream",
     "text": [
      "0\n",
      "RechargeModel_Scen0\n",
      "RechargeModel_Scen0_mp\n",
      "FloPy is using the following  executable to run the model: /WRDAPP/MF2005.1_12/bin/mf2005.exe\n",
      "\n",
      "                                  MODFLOW-2005     \n",
      "    U.S. GEOLOGICAL SURVEY MODULAR FINITE-DIFFERENCE GROUND-WATER FLOW MODEL\n",
      "                             Version 1.12.00 2/3/2017                        \n",
      "\n",
      " Using NAME file: RechargeModel_Scen0.nam \n",
      " Run start date and time (yyyy/mm/dd hh:mm:ss): 2020/02/20 13:42:58\n",
      "\n",
      " Solving:  Stress period:     1    Time step:     1    Ground-Water Flow Eqn.\n",
      " Run end date and time (yyyy/mm/dd hh:mm:ss): 2020/02/20 13:42:58\n",
      " Elapsed run time:  0.086 Seconds\n",
      "\n",
      "  Normal termination of simulation\n"
     ]
    },
    {
     "ename": "Exception",
     "evalue": "The program /WRDAPP/MF2005.1_12/bin/mp7 does not exist or is not executable.",
     "output_type": "error",
     "traceback": [
      "\u001b[1;31m---------------------------------------------------------------------------\u001b[0m",
      "\u001b[1;31mException\u001b[0m                                 Traceback (most recent call last)",
      "\u001b[1;32m<ipython-input-9-d8477265de19>\u001b[0m in \u001b[0;36m<module>\u001b[1;34m\u001b[0m\n\u001b[0;32m     48\u001b[0m \u001b[1;33m\u001b[0m\u001b[0m\n\u001b[0;32m     49\u001b[0m     \u001b[1;31m# run modpath\u001b[0m\u001b[1;33m\u001b[0m\u001b[1;33m\u001b[0m\u001b[1;33m\u001b[0m\u001b[0m\n\u001b[1;32m---> 50\u001b[1;33m     \u001b[0mmp\u001b[0m\u001b[1;33m.\u001b[0m\u001b[0mrun_model\u001b[0m\u001b[1;33m(\u001b[0m\u001b[1;33m)\u001b[0m\u001b[1;33m\u001b[0m\u001b[1;33m\u001b[0m\u001b[0m\n\u001b[0m\u001b[0;32m     51\u001b[0m \u001b[1;33m\u001b[0m\u001b[0m\n",
      "\u001b[1;32mc:\\users\\bensk\\appdata\\local\\programs\\python\\python38\\lib\\site-packages\\flopy\\mbase.py\u001b[0m in \u001b[0;36mrun_model\u001b[1;34m(self, silent, pause, report, normal_msg)\u001b[0m\n\u001b[0;32m   1220\u001b[0m         \"\"\"\n\u001b[0;32m   1221\u001b[0m \u001b[1;33m\u001b[0m\u001b[0m\n\u001b[1;32m-> 1222\u001b[1;33m         return run_model(self.exe_name, self.namefile, model_ws=self.model_ws,\n\u001b[0m\u001b[0;32m   1223\u001b[0m                          \u001b[0msilent\u001b[0m\u001b[1;33m=\u001b[0m\u001b[0msilent\u001b[0m\u001b[1;33m,\u001b[0m \u001b[0mpause\u001b[0m\u001b[1;33m=\u001b[0m\u001b[0mpause\u001b[0m\u001b[1;33m,\u001b[0m \u001b[0mreport\u001b[0m\u001b[1;33m=\u001b[0m\u001b[0mreport\u001b[0m\u001b[1;33m,\u001b[0m\u001b[1;33m\u001b[0m\u001b[1;33m\u001b[0m\u001b[0m\n\u001b[0;32m   1224\u001b[0m                          normal_msg=normal_msg)\n",
      "\u001b[1;32mc:\\users\\bensk\\appdata\\local\\programs\\python\\python38\\lib\\site-packages\\flopy\\mbase.py\u001b[0m in \u001b[0;36mrun_model\u001b[1;34m(exe_name, namefile, model_ws, silent, pause, report, normal_msg, use_async, cargs)\u001b[0m\n\u001b[0;32m   1566\u001b[0m         s = 'The program {} does not exist or is not executable.'.format(\n\u001b[0;32m   1567\u001b[0m             exe_name)\n\u001b[1;32m-> 1568\u001b[1;33m         \u001b[1;32mraise\u001b[0m \u001b[0mException\u001b[0m\u001b[1;33m(\u001b[0m\u001b[0ms\u001b[0m\u001b[1;33m)\u001b[0m\u001b[1;33m\u001b[0m\u001b[1;33m\u001b[0m\u001b[0m\n\u001b[0m\u001b[0;32m   1569\u001b[0m     \u001b[1;32melse\u001b[0m\u001b[1;33m:\u001b[0m\u001b[1;33m\u001b[0m\u001b[1;33m\u001b[0m\u001b[0m\n\u001b[0;32m   1570\u001b[0m         \u001b[1;32mif\u001b[0m \u001b[1;32mnot\u001b[0m \u001b[0msilent\u001b[0m\u001b[1;33m:\u001b[0m\u001b[1;33m\u001b[0m\u001b[1;33m\u001b[0m\u001b[0m\n",
      "\u001b[1;31mException\u001b[0m: The program /WRDAPP/MF2005.1_12/bin/mp7 does not exist or is not executable."
     ]
    }
   ],
   "source": [
    "#For two different recharge scenarios:\n",
    "moddir=\"/WRDAPP/MF2005.1_12/bin/mf2005\"\n",
    "moddirmp=\"/WRDAPP/MF2005.1_12/bin/mp7\"\n",
    "\n",
    "for scenario in [0,1]:\n",
    "    print(scenario)\n",
    "    #create model object \n",
    "    modelname = \"RechargeModel_Scen\"+str(scenario)\n",
    "    mpname=modelname +'_mp'\n",
    "    print(modelname)\n",
    "    print(mpname)\n",
    "\n",
    "    m = flopy.modflow.Modflow(modelname, exe_name = moddir)\n",
    "  \n",
    "    #Create objects for each package (see GHW1 notebook for details):\n",
    "    #create flopy discretization object, length and time are meters (2) and days (4)\n",
    "    #DIS (Discretization): creates model grid \n",
    "    dis = flopy.modflow.ModflowDis(model=m, nlay=nlay, nrow=nrow, ncol=ncol, \n",
    "                               delr=dx, delc=dy, top=ztop, botm=zbot, \n",
    "                               itmuni = 4, lenuni = 2, \n",
    "                               nper=nper, steady=steady)\n",
    "    bas = flopy.modflow.ModflowBas(m, ibound=ibound, strt=H_init)  #BAS (Basic): assigns head boundaries\n",
    "    #LPF (Layer Property Flow): assigns flow props between cells\n",
    "    lpf = flopy.modflow.ModflowLpf(m, laytyp=uncnf, hk=K_horiz, \n",
    "                               vka=K_vert, ss=Ss,\n",
    "                               sy=Sy,storagecoefficient=True, ipakcb=53) \n",
    "    \n",
    "    oc = flopy.modflow.ModflowOc(model=m, stress_period_data=spd, compact=True) #OC (Output Control): Decides what outputs to save\n",
    "    pcg = flopy.modflow.ModflowPcg(model=m) #PCG (Preconditioned Conjugate Gradient)\n",
    "    rch = flopy.modflow.mfrch.ModflowRch(m, rech=rech[scenario,:,:])       #RCH (Recharge)\n",
    "    wel = flopy.modflow.ModflowWel(model=m, stress_period_data=wel_spd)\n",
    "\n",
    "    #Write MODFLOW input files:\n",
    "    m.write_input()\n",
    "    \n",
    "    #Run MODFLOW:\n",
    "    success, buff = m.run_model()\n",
    "    \n",
    "    \n",
    "    #run modpath \n",
    "    mp = flopy.modpath.Modpath7.create_mp7(modelname=mpname, trackdir='forward', flowmodel=m,  \n",
    "                                       rowcelldivisions=1, columncelldivisions=1, layercelldivisions=1,\n",
    "                                        exe_name=moddirmp)\n",
    "\n",
    "\n",
    "    # write modpath datasets\n",
    "    mp.write_input()\n",
    "\n",
    "    # run modpath\n",
    "    mp.run_model()\n",
    "\n"
   ]
  },
  {
   "cell_type": "markdown",
   "metadata": {},
   "source": [
    "## 6. Plotting and analysis\n",
    "\n",
    "### Read in particle files"
   ]
  },
  {
   "cell_type": "code",
   "execution_count": null,
   "metadata": {},
   "outputs": [],
   "source": [
    "#load in the flow path file\n",
    "scenario=0\n",
    "print(scenario)\n",
    "modelname = \"RechargeModel_Scen\"+str(scenario)\n",
    "mpname=modelname +'_mp'\n",
    "\n",
    "fpth = os.path.join(mpname + '.mppth')\n",
    "print(fpth)\n",
    "p = flopy.utils.PathlineFile(fpth)\n",
    "\n",
    "#load in the end point file\n",
    "fpth = os.path.join(mpname + '.mpend')\n",
    "print(fpth)\n",
    "e = flopy.utils.EndpointFile(fpth, verbose=False)\n",
    "\n",
    "#make a subset which is all the particles\n",
    "pall = p.get_alldata()  #formerly pwb and ewb\n",
    "eall = e.get_alldata()\n",
    "\n",
    "#make a subset which is the partlces that end in the well \n",
    "nodewell = m.dis.get_node([well_loc])\n",
    "print(nodewell)\n",
    "pwell = p.get_destination_pathline_data(dest_cells=nodewell)\n",
    "ewell= e.get_destination_endpoint_data(dest_cells=nodewell)"
   ]
  },
  {
   "cell_type": "markdown",
   "metadata": {},
   "source": [
    "### Plot particle pathlines"
   ]
  },
  {
   "cell_type": "code",
   "execution_count": null,
   "metadata": {},
   "outputs": [],
   "source": [
    "f, axes = plt.subplots(ncols=2, nrows=1, figsize=(10, 5))\n",
    "\n",
    "ax = axes[0]\n",
    "ax.set_aspect('equal')\n",
    "ax.set_title('Flowlines')\n",
    "mm = flopy.plot.PlotMapView(model=m, ax=ax)\n",
    "mm.plot_grid(lw=0.5)\n",
    "mm.plot_pathline(pall, layer='all', color='blue', lw=0.5, linestyle=':', label='not captured by wells') #,marker='o', markercolor='black', markersize=3, markerevery=5)\n",
    "mm.plot_pathline(pwell, layer='all', color='green', lw=0.5, linestyle=':', label='captured by well') # ,marker='o', markercolor='black', markersize=3, markerevery=5)\n",
    "#mm.plot_endpoint(eall, direction='ending', colorbar=True, shrink=0.5);\n",
    "#mm.plot_endpoint(eall, direction='starting')\n",
    "#mm.ax.legend();\n",
    "\n",
    "ax = axes[1]\n",
    "ax.set_aspect('equal')\n",
    "ax.set_title('Well Capture Area')\n",
    "mm = flopy.plot.PlotMapView(model=m, ax=ax)\n",
    "mm.plot_endpoint(ewell, direction='starting', colorbar=True, shrink=0.5);\n",
    "#mm.plot_grid(lw=0.5)\n",
    "#mm.plot_pathline(prb, layer='all', color='green', lw=0.5, linestyle=':', label='captured by rivers')\n",
    "\n",
    "plt.tight_layout();"
   ]
  },
  {
   "cell_type": "markdown",
   "metadata": {},
   "source": [
    "### Read in MODFLOW outputs\n",
    "\n",
    "For information on binary files see: http://modflowpy.github.io/flopydoc/binaryfile.html \n",
    "\n",
    "For information on flow budget files see: \n",
    "http://modflowpy.github.io/flopydoc/binaryfile.html#flopy.utils.binaryfile.CellBudgetFile"
   ]
  },
  {
   "cell_type": "code",
   "execution_count": null,
   "metadata": {},
   "outputs": [],
   "source": [
    "#heads\n",
    "headobj = bf.HeadFile(modelname+'.hds')    #reads the binary head file\n",
    "times = headobj.get_times()                #returns a list of timesteps\n",
    "head = headobj.get_data(totim=times[-1])        #returns a numpy array of heads for specified time (last timestep)\n",
    "\n",
    "#Water balance\n",
    "budgobj = bf.CellBudgetFile(modelname+'.cbc')   #reads the cell budget file    \n",
    "kstpkper_list = budgobj.get_kstpkper()          #returns a list of stress periods & timesteps\n",
    "frf = budgobj.get_data(text='flow right face', totim=1.0) #returns an array of flow rates for right face of cells\n",
    "fff = budgobj.get_data(text='flow front face', totim=1.0) #returns an array of flow rates for front face of cells     \n",
    "         #string options are in the list file under output control (make sure to include spaces!)\n",
    "#print(\"Flow through Right Face of Grid Cells m^3/d \\n\", frf,\n",
    "#     \"\\n Flow through Front Face of Grid Cells m^3/d \\n\", fff)\n",
    "\n",
    "#print('timesteps:', times)         \n",
    "#print('final head:', 'dimensions', np.shape(head), '\\n', head)    \n",
    "#print('initial head:', 'dimensions', np.shape(H_init), '\\n', H_init)\n",
    "#print('well fluxes:', 'dimensions', np.shape(fluxes), '\\n', fluxes)"
   ]
  },
  {
   "cell_type": "markdown",
   "metadata": {},
   "source": [
    "### Plot head transect"
   ]
  },
  {
   "cell_type": "code",
   "execution_count": null,
   "metadata": {},
   "outputs": [],
   "source": [
    "fig4 = plt.figure() \n",
    "x=np.arange(100,2600,100) \n",
    "y=head[0,5,:]\n",
    "plt.plot(x,head[0,12,:],marker='o', color='mediumvioletred', markersize=4, linestyle='--')\n",
    "plt.title('Scatter plot pythonspot.com')\n",
    "plt.xlabel('X location')\n",
    "plt.ylabel('Head')\n",
    "plt.title(\"Head along row 12\")\n",
    "#plt.axvline(x=1200)\n",
    "plt.savefig('Head_Transect.png')\n",
    "\n",
    "hgrad=(head[0,5,0]-head[0,5,-1])/Lx\n",
    "print(\"Head Gradient\", hgrad, \"m/m\") \n"
   ]
  },
  {
   "cell_type": "markdown",
   "metadata": {},
   "source": [
    "### 3D head surface"
   ]
  },
  {
   "cell_type": "code",
   "execution_count": null,
   "metadata": {},
   "outputs": [],
   "source": [
    "#import 3d axes toolkit from matplotlib\n",
    "from mpl_toolkits.mplot3d import Axes3D\n",
    "\n",
    "#create 3d figure\n",
    "fig_3d = plt.figure(figsize=(12,5))\n",
    "ax = fig_3d.gca(projection='3d')\n",
    "\n",
    "#set X, Y, Z variables for 3d plot to be our model domain and head solution\n",
    "X = np.arange(0,Lx,dx)\n",
    "Y = np.arange(0,Ly,dy)\n",
    "X, Y = np.meshgrid(X, Y)\n",
    "Z = np.flipud(head[0])\n",
    "\n",
    "#create surface and labels\n",
    "surf = ax.plot_surface(X,Y,Z, cmap = 'viridis', linewidth=0, label='head')\n",
    "fig_3d.colorbar(surf,shrink=0.5,aspect=5).set_label('Head (m)',fontsize=10,fontweight='bold')\n",
    "ax.set_xlabel('Lx (m)', fontsize=15, fontweight='bold')\n",
    "ax.set_ylabel('Ly (m)', fontsize=15, fontweight='bold')\n",
    "ax.set_title('Steady-State Model Head Profile', fontsize=15, fontweight='bold')\n",
    "#plt.show(surf)\n",
    "plt.savefig('BoxModel_Surface1.png') "
   ]
  },
  {
   "cell_type": "markdown",
   "metadata": {},
   "source": [
    "###  Head Contours"
   ]
  },
  {
   "cell_type": "code",
   "execution_count": null,
   "metadata": {},
   "outputs": [],
   "source": [
    "#plot results\n",
    "fig3=plt.figure(figsize=(10,10)) #create 10 x 10 figure\n",
    "modelmap = flopy.plot.PlotMapView(model=m, layer=0) #use modelmap to attach plot to model\n",
    "#grid = modelmap.plot_grid() #plot model grid\n",
    "qm = modelmap.plot_ibound()  \n",
    "contour_levels = np.linspace(head[0].min(),head[0].max(),11) #set contour levels for contouring head\n",
    "head_contours = modelmap.contour_array(head, levels=contour_levels) #create head contours\n",
    "flows = modelmap.plot_discharge(frf[0], fff[0], head=head) #create discharge arrows\n",
    "\n",
    "#display parameters\n",
    "plt.xlabel('Lx (m)',fontsize = 14)\n",
    "plt.ylabel('Ly (m)',fontsize = 14)\n",
    "plt.title('Steady-State Model, Flow(m^3/d) and Head(m) Results', fontsize = 15, fontweight = 'bold')\n",
    "plt.colorbar(head_contours,aspect=5)\n",
    "#plt.show(modelmap)\n",
    "plt.savefig('BoxModel_vectors.png')   "
   ]
  },
  {
   "cell_type": "code",
   "execution_count": null,
   "metadata": {},
   "outputs": [],
   "source": []
  }
 ],
 "metadata": {
  "kernelspec": {
   "display_name": "Python 3",
   "language": "python",
   "name": "python3"
  },
  "language_info": {
   "codemirror_mode": {
    "name": "ipython",
    "version": 3
   },
   "file_extension": ".py",
   "mimetype": "text/x-python",
   "name": "python",
   "nbconvert_exporter": "python",
   "pygments_lexer": "ipython3",
   "version": "3.8.1"
  }
 },
 "nbformat": 4,
 "nbformat_minor": 2
}
