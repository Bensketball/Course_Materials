{
 "cells": [
  {
   "cell_type": "markdown",
   "metadata": {},
   "source": [
    "# Recharge and Particles - Self Check Example\n",
    "\n",
    "## Model Description \n",
    "This is a steady state box model with recharge\n",
    "\n",
    "#### Dimensions: \n",
    "- 25 by 25 by 1\n",
    "- dx = dy = 100 m\n",
    "- dz = 10 m  \n",
    "\n",
    "#### Subsurface Properties: \n",
    "- Homogeneous \n",
    "- K = 1.0 m/day in x and y and 0.1 m/day in z.  \n",
    "- Porosity = 0.35\n",
    "- Specific yield = 0.3\n",
    "- Storage coefficient=0.001  \n",
    "\n",
    "#### Boundary Conditions: \n",
    " - Right boundary is no flow (i.e. a closed basin) \n",
    " - Left boundary is a constant head of 7 m relative to the datum, which is located at the bottom of the domain. \n",
    " - Recharge occurs at a rate of 5E-6 m/d uniformly across the domain\n",
    " \n",
    "### Wells\n",
    " - one well located in row=12, col=12 pumping at a rage of -10 m3/day"
   ]
  },
  {
   "cell_type": "markdown",
   "metadata": {},
   "source": [
    "## 1. Setup the environment"
   ]
  },
  {
   "cell_type": "code",
   "execution_count": 1,
   "metadata": {},
   "outputs": [
    {
     "name": "stdout",
     "output_type": "stream",
     "text": [
      "flopy is installed in c:\\users\\bensk\\appdata\\local\\programs\\python\\python38\\lib\\site-packages\\flopy\n"
     ]
    }
   ],
   "source": [
    "#the basics\n",
    "import flopy\n",
    "import numpy as np\n",
    "import matplotlib as mp\n",
    "import os\n",
    "\n",
    "#additional analysis tools\n",
    "import flopy.utils.binaryfile as bf\n",
    "from mpl_toolkits.mplot3d import Axes3D\n",
    "import matplotlib.pyplot as plt\n",
    "from matplotlib import cm\n",
    "from matplotlib.ticker import LinearLocator, FormatStrFormatter\n",
    "import csv\n",
    "\n",
    "#jupyter specific--included to show plots in notebook\n",
    "%matplotlib inline "
   ]
  },
  {
   "cell_type": "markdown",
   "metadata": {},
   "source": [
    "## 2. Create the model object"
   ]
  },
  {
   "cell_type": "code",
   "execution_count": 2,
   "metadata": {},
   "outputs": [],
   "source": [
    "modelname = \"RechargeModel_Check\"\n",
    "moddir=\"/WRDAPP/MF2005.1_12/bin/mf2005\"\n",
    "m = flopy.modflow.Modflow(modelname, exe_name = moddir)\n",
    "#moddir = os.getcwd()+\"\\\\modflowdir\\\\mf2005.exe\""
   ]
  },
  {
   "cell_type": "code",
   "execution_count": 3,
   "metadata": {},
   "outputs": [],
   "source": [
    "#optional delete old run files\n",
    "run = 'n'\n",
    "if run == 'y':\n",
    "    file_extensions = ['.dis','.bas','.lpf','.oc','.pcg','.wel', '.nam']\n",
    "    for ext in file_extensions:\n",
    "        os.remove(modelname + ext)"
   ]
  },
  {
   "cell_type": "markdown",
   "metadata": {},
   "source": [
    "## 3. Setup the Packages\n",
    "\n",
    "\n",
    "### Discretization (DIS package)\n",
    "\n",
    "For more details on DIS package inputs refer to : http://modflowpy.github.io/flopydoc/mfdis.html"
   ]
  },
  {
   "cell_type": "code",
   "execution_count": 4,
   "metadata": {},
   "outputs": [
    {
     "name": "stdout",
     "output_type": "stream",
     "text": [
      "\n",
      "    MODFLOW Discretization Package Class.\n",
      "\n",
      "    Parameters\n",
      "    ----------\n",
      "    model : model object\n",
      "        The model object (of type :class:`flopy.modflow.Modflow`) to which\n",
      "        this package will be added.\n",
      "    nlay : int\n",
      "        Number of model layers (the default is 1).\n",
      "    nrow : int\n",
      "        Number of model rows (the default is 2).\n",
      "    ncol : int\n",
      "        Number of model columns (the default is 2).\n",
      "    nper : int\n",
      "        Number of model stress periods (the default is 1).\n",
      "    delr : float or array of floats (ncol), optional\n",
      "        An array of spacings along a row (the default is 1.0).\n",
      "    delc : float or array of floats (nrow), optional\n",
      "        An array of spacings along a column (the default is 0.0).\n",
      "    laycbd : int or array of ints (nlay), optional\n",
      "        An array of flags indicating whether or not a layer has a Quasi-3D\n",
      "        confining bed below it. 0 indicates no confining bed, and not zero\n",
      "        indicates a confining bed. LAYCBD for the bottom layer must be 0. (the\n",
      "        default is 0)\n",
      "    top : float or array of floats (nrow, ncol), optional\n",
      "        An array of the top elevation of layer 1. For the common situation in\n",
      "        which the top layer represents a water-table aquifer, it may be\n",
      "        reasonable to set Top equal to land-surface elevation (the default is\n",
      "        1.0)\n",
      "    botm : float or array of floats (nlay, nrow, ncol), optional\n",
      "        An array of the bottom elevation for each model cell (the default is\n",
      "        0.)\n",
      "    perlen : float or array of floats (nper)\n",
      "        An array of the stress period lengths.\n",
      "    nstp : int or array of ints (nper)\n",
      "        Number of time steps in each stress period (default is 1).\n",
      "    tsmult : float or array of floats (nper)\n",
      "        Time step multiplier (default is 1.0).\n",
      "    steady : boolean or array of boolean (nper)\n",
      "        true or False indicating whether or not stress period is steady state\n",
      "        (default is True).\n",
      "    itmuni : int\n",
      "        Time units, default is days (4)\n",
      "    lenuni : int\n",
      "        Length units, default is meters (2)\n",
      "    extension : string\n",
      "        Filename extension (default is 'dis')\n",
      "    unitnumber : int\n",
      "        File unit number (default is None).\n",
      "    filenames : str or list of str\n",
      "        Filenames to use for the package. If filenames=None the package name\n",
      "        will be created using the model name and package extension. If a\n",
      "        single string is passed the package will be set to the string.\n",
      "        Default is None.\n",
      "    xul : float\n",
      "        x coordinate of upper left corner of the grid, default is None, which\n",
      "        means xul will be set to zero.\n",
      "    yul : float\n",
      "        y coordinate of upper-left corner of the grid, default is None, which\n",
      "        means yul will be calculated as the sum of the delc array.  This\n",
      "        default, combined with the xul and rotation defaults will place the\n",
      "        lower-left corner of the grid at (0, 0).\n",
      "    rotation : float\n",
      "        counter-clockwise rotation (in degrees) of the grid about the lower-\n",
      "        left corner. default is 0.0\n",
      "    proj4_str : str\n",
      "        PROJ4 string that defines the projected coordinate system\n",
      "        (e.g. '+proj=utm +zone=14 +datum=WGS84 +units=m +no_defs ').\n",
      "        Can be an EPSG code (e.g. 'EPSG:32614'). Default is None.\n",
      "    start_datetime : str\n",
      "        starting datetime of the simulation. default is '1/1/1970'\n",
      "\n",
      "    Attributes\n",
      "    ----------\n",
      "    heading : str\n",
      "        Text string written to top of package input file.\n",
      "\n",
      "    Methods\n",
      "    -------\n",
      "\n",
      "    See Also\n",
      "    --------\n",
      "\n",
      "    Notes\n",
      "    -----\n",
      "\n",
      "    Examples\n",
      "    --------\n",
      "\n",
      "    >>> import flopy\n",
      "    >>> m = flopy.modflow.Modflow()\n",
      "    >>> dis = flopy.modflow.ModflowDis(m)\n",
      "\n",
      "     _ModflowDis__thickness = <flopy.utils.util_array.Util3d object at 0x000002209B9A88E0> ('flopy.utils.util_array.Util3d)\n",
      " _name = DIS\n",
      " _parent = MODFLOW 1 layer(s) 25 row(s) 25 column(s) 1 stress period(s) ('flopy.modflow.mf.Modflow)\n",
      " _sr = xul:0; yul:2500; rotation:0; proj4_str:None; units:meters; lenuni:2; length_multiplier:1.0 ('flopy.utils.reference.SpatialReference)\n",
      " acceptable_dtypes (list, items = 3)\n",
      " allowDuplicates = False ('bool)\n",
      " botm = <flopy.utils.util_array.Util3d object at 0x0000022092965880> ('flopy.utils.util_array.Util3d)\n",
      " delc = <flopy.utils.util_array.Util2d object at 0x000002209B9A8580> ('flopy.utils.util_array.Util2d)\n",
      " delr = <flopy.utils.util_array.Util2d object at 0x000002209B9A8640> ('flopy.utils.util_array.Util2d)\n",
      " extra = \n",
      " file_name = RechargeModel_Check.dis\n",
      " fn_path = .\\RechargeModel_Check.dis ('str)\n",
      " itmuni = 4 ('int)\n",
      " itmuni_dict = {0: 'undefined', 1: 'seconds', 2: 'minutes', 3: 'hours', 4: 'days', 5: 'years'} ('dict)\n",
      " laycbd = <flopy.utils.util_array.Util2d object at 0x000002209B9A85B0> ('flopy.utils.util_array.Util2d)\n",
      " lenuni = 2 ('int)\n",
      " ncol = 25 ('int)\n",
      " nlay = 1 ('int)\n",
      " nper = 1 ('int)\n",
      " nrow = 25 ('int)\n",
      " nstp = <flopy.utils.util_array.Util2d object at 0x000002209296DA60> ('flopy.utils.util_array.Util2d)\n",
      " perlen = <flopy.utils.util_array.Util2d object at 0x000002209296D880> ('flopy.utils.util_array.Util2d)\n",
      " start_datetime = 1-1-1970 ('str)\n",
      " steady = <flopy.utils.util_array.Util2d object at 0x000002209B9A87F0> ('flopy.utils.util_array.Util2d)\n",
      " top = <flopy.utils.util_array.Util2d object at 0x000002209B9A86A0> ('flopy.utils.util_array.Util2d)\n",
      " tr = <flopy.utils.reference.TemporalReference object at 0x000002209297BDF0> ('flopy.utils.reference.TemporalReference)\n",
      " tsmult = <flopy.utils.util_array.Util2d object at 0x000002209B9A8790> ('flopy.utils.util_array.Util2d)\n",
      " unit_number = 11\n",
      "\n"
     ]
    }
   ],
   "source": [
    "nrow = 25 #number of rows\n",
    "ncol = 25 #number of columns\n",
    "nlay = 1  #number of layers\n",
    "\n",
    "dx= 100 #width of grid cells in x diretion \n",
    "dy= 100 #width of grid cells in y diretion \n",
    "\n",
    "Lx = ncol*dx  #width of domain in x\n",
    "Ly = nrow*dy #width of domain in y\n",
    "ztop = 10.    #top elevation \n",
    "zbot = 0.     #bottom elevation\n",
    "\n",
    "dz = (ztop - zbot) / nlay #cell height in z direction\n",
    "\n",
    "nper = 1 #number of stress periods \n",
    "steady = [True] #list noting the stress period type\n",
    "\n",
    "#create flopy discretization object, length and time are meters (2) and days (4)\n",
    "dis = flopy.modflow.ModflowDis(model=m, nlay=nlay, nrow=nrow, ncol=ncol, \n",
    "                               delr=dx, delc=dy, top=ztop, botm=zbot, \n",
    "                               itmuni = 4, lenuni = 2, \n",
    "                               nper=nper, steady=steady)\n",
    "print(dis)"
   ]
  },
  {
   "cell_type": "markdown",
   "metadata": {},
   "source": [
    "### Constant head boundaries, active cells and initial heads (BAS Package)\n",
    "\n",
    "For more details on the BAS package see: http://modflowpy.github.io/flopydoc/mfbas.html"
   ]
  },
  {
   "cell_type": "code",
   "execution_count": 5,
   "metadata": {},
   "outputs": [],
   "source": [
    "#Define cell activity (IBOUND)\n",
    "#create ibound as array of ints = 1\n",
    "ibound = np.ones((nlay, nrow, ncol), dtype=np.int32) #integer array of dim (z,y,x), makes all cells active                                                     \n",
    "#set constand head boundary on the left\n",
    "ibound[:,:,0] = -1          #replace leftmost column (all zs, all ys, first x) with -1 to indicate constant head \n",
    "\n",
    "#print(\"ibound values: \\n\", ibound)\n",
    "\n",
    "#Define Starting Heads\n",
    "#setup initial heads as 1 everywhere and 7 on the left boundary \n",
    "H_init = np.ones((nlay, nrow, ncol), dtype=np.float32)  #float array (i.e. decimal), sets all heads to 1.0\n",
    "H_init[:, :, 0] = 7    #replace first (left) col with desired head value\n",
    "\n",
    "#print(\"starting head values: \\n\", H_init)\n",
    "\n",
    "#create flopy bas object\n",
    "bas = flopy.modflow.ModflowBas(m, ibound=ibound, strt=H_init)"
   ]
  },
  {
   "cell_type": "markdown",
   "metadata": {},
   "source": [
    "#### Plot the grid and ibound"
   ]
  },
  {
   "cell_type": "code",
   "execution_count": 6,
   "metadata": {},
   "outputs": [
    {
     "data": {
      "image/png": "[encoded data removed]",
      "text/plain": [
       "<Figure size 432x288 with 1 Axes>"
      ]
     },
     "metadata": {
      "needs_background": "light"
     },
     "output_type": "display_data"
    }
   ],
   "source": [
    "#plot grid and ibound\n",
    "modelmap = flopy.plot.PlotMapView(model=m, layer=0)\n",
    "grid = modelmap.plot_grid()\n",
    "ib = modelmap.plot_ibound()\n",
    "#add labels and legend\n",
    "plt.xlabel('Lx (m)',fontsize = 14)\n",
    "plt.ylabel('Ly (m)',fontsize = 14)\n",
    "plt.title('Ibound', fontsize = 15, fontweight = 'bold')\n",
    "plt.legend(handles=[mp.patches.Patch(color='blue',label='Const. Head',ec='black'),\n",
    "                   mp.patches.Patch(color='white',label='Active Cell',ec='black'),\n",
    "                   mp.patches.Patch(color='black',label='Inactive Cell',ec='black')],\n",
    "                   bbox_to_anchor=(1.5,1.0))\n",
    "plt.show(modelmap)"
   ]
  },
  {
   "cell_type": "markdown",
   "metadata": {},
   "source": [
    "### Layer Properties  (LPF Package)\n",
    "\n",
    "For more details on LPF package see: http://modflowpy.github.io/flopydoc/mflpf.html"
   ]
  },
  {
   "cell_type": "code",
   "execution_count": 7,
   "metadata": {},
   "outputs": [],
   "source": [
    "K_horiz = 1.    #horizontal hydraulic conductivity \n",
    "K_vert = 0.1    #assign vertical hydraulic conductivity (along z axis)\n",
    "n = 0.35        #assign porosity\n",
    "Ss = 0.001      #assign storage coefficient\n",
    "Sy = 0.3        #assign specific yield\n",
    "uncnf = 1       #0=confined, >0 = unconfined\n",
    "\n",
    "#assigns horiz  and vertical Ks and saves cell-by-cell budget data\n",
    "lpf = flopy.modflow.ModflowLpf(m, laytyp=uncnf, hk=K_horiz, \n",
    "                               vka=K_vert, ss=Ss,\n",
    "                               sy=Sy,storagecoefficient=True, ipakcb=53) "
   ]
  },
  {
   "cell_type": "markdown",
   "metadata": {},
   "source": [
    "### Outputs by stress period (OC Package)\n",
    "For more details on OC Package: http://modflowpy.github.io/flopydoc/mfoc.html"
   ]
  },
  {
   "cell_type": "code",
   "execution_count": 8,
   "metadata": {},
   "outputs": [
    {
     "name": "stdout",
     "output_type": "stream",
     "text": [
      "oc stress period data: \n",
      " {(0, 0): ['print head', 'print budget', 'save head', 'save budget']}\n"
     ]
    }
   ],
   "source": [
    "#create oc stress period data. \n",
    "#(0,0) tells OC package to save data for stress period 1, time step 1.\n",
    "spd = {(0,0):['print head', 'print budget', 'save head', 'save budget']} #create a dictionary for stress period data, where key (0,0) is associated with value ['print...'] \n",
    "\n",
    "print(\"oc stress period data: \\n\", spd)\n",
    "\n",
    "oc = flopy.modflow.ModflowOc(model=m, stress_period_data=spd, compact=True)"
   ]
  },
  {
   "cell_type": "markdown",
   "metadata": {},
   "source": [
    "### Numerical solver (PCG Package)\n",
    "\n",
    "We are using the Preconditioned Conjugate Gradient package:\n",
    "\n",
    "Additionally, MODFLOW online describes these solvers: https://water.usgs.gov/ogw/modflow/MODFLOW-2005-Guide/index.html?oc.htm\n",
    "\n",
    "And Flopy documents its communication with the PCG MODFLOW package: http://modflowpy.github.io/flopydoc/mfpcg.html\n"
   ]
  },
  {
   "cell_type": "code",
   "execution_count": 9,
   "metadata": {},
   "outputs": [],
   "source": [
    "pcg = flopy.modflow.ModflowPcg(model=m)"
   ]
  },
  {
   "cell_type": "markdown",
   "metadata": {},
   "source": [
    "### Recharge (RCH Package)\n",
    "For more details on the RCH package see: http://modflowpy.github.io/flopydoc/mfrch.html and https://water.usgs.gov/ogw/modflow/MODFLOW-2005-Guide/index.html?rch.htm"
   ]
  },
  {
   "cell_type": "code",
   "execution_count": 10,
   "metadata": {},
   "outputs": [],
   "source": [
    "#uniform recharge everywhere \n",
    "#rech_uniform = 5e-6                             #define uniform recharge flux (m/day)\n",
    "#rech_zone = np.zeros((nrow,ncol))               #define an array of zeros of dim (nrow,ncol)\n",
    "#rech_zone=rech_zone+5e-6\n",
    "#rch = flopy.modflow.mfrch.ModflowRch(model=m, rech=rech_zone)     #create rch object\n",
    "\n",
    "#Recharge on 1/3 of the domain \n",
    "rech_zone = np.zeros((nrow,ncol))                            #define an array of zeros of dim (nrow,ncol)\n",
    "rech_zone[:,20:25] = 2.4e-5                                    #set recharge in rightmost 5 columns\n",
    "rch = flopy.modflow.mfrch.ModflowRch(model=m, rech=rech_zone)     #create rch object"
   ]
  },
  {
   "cell_type": "markdown",
   "metadata": {},
   "source": [
    "### Well Package (WEL)"
   ]
  },
  {
   "cell_type": "code",
   "execution_count": 11,
   "metadata": {},
   "outputs": [
    {
     "name": "stdout",
     "output_type": "stream",
     "text": [
      "Well 1 [layer, row, column, flux]: \n",
      " [0, 12, 12, -10]\n",
      "Well Stress Period Data: \n",
      " {0: [[0, 12, 12, -10]]}\n"
     ]
    }
   ],
   "source": [
    "pumping_rate = -10 #in m^3/d, negative for pumping/positive for injection\n",
    "well_loc=(0,12,12)\n",
    "well_1 = [i for i in well_loc] + [-10]\n",
    "print(\"Well 1 [layer, row, column, flux]: \\n\", well_1)\n",
    "\n",
    "wel_spd = {0: [well_1]}\n",
    "print(\"Well Stress Period Data: \\n\", wel_spd)\n",
    "\n",
    "#Create flopy wel object \n",
    "wel = flopy.modflow.ModflowWel(model=m, stress_period_data=wel_spd)"
   ]
  },
  {
   "cell_type": "markdown",
   "metadata": {},
   "source": [
    "## 4. Write inputs  "
   ]
  },
  {
   "cell_type": "code",
   "execution_count": 12,
   "metadata": {},
   "outputs": [],
   "source": [
    "m.write_input()    #uses the package objects created above to actually write the text files, \n",
    "                    #and saves to folder that this script is in\n",
    "                    #after this step you should see the files appear in your folder\n"
   ]
  },
  {
   "cell_type": "markdown",
   "metadata": {},
   "source": [
    "## 5. Run the model"
   ]
  },
  {
   "cell_type": "code",
   "execution_count": 13,
   "metadata": {},
   "outputs": [
    {
     "name": "stdout",
     "output_type": "stream",
     "text": [
      "FloPy is using the following  executable to run the model: /WRDAPP/MF2005.1_12/bin/mf2005.exe\n",
      "\n",
      "                                  MODFLOW-2005     \n",
      "    U.S. GEOLOGICAL SURVEY MODULAR FINITE-DIFFERENCE GROUND-WATER FLOW MODEL\n",
      "                             Version 1.12.00 2/3/2017                        \n",
      "\n",
      " Using NAME file: RechargeModel_Check.nam \n",
      " Run start date and time (yyyy/mm/dd hh:mm:ss): 2020/02/20 13:40:20\n",
      "\n",
      " Solving:  Stress period:     1    Time step:     1    Ground-Water Flow Eqn.\n",
      " Run end date and time (yyyy/mm/dd hh:mm:ss): 2020/02/20 13:40:20\n",
      " Elapsed run time:  0.098 Seconds\n",
      "\n",
      "  Normal termination of simulation\n"
     ]
    }
   ],
   "source": [
    "success, mfoutput = m.run_model(pause=False, report=True)\n",
    "if not success:\n",
    "    raise Exception('MODFLOW did not terminate normally.')"
   ]
  },
  {
   "cell_type": "markdown",
   "metadata": {},
   "source": [
    "## 6. Add particles\n",
    "\n",
    "We will be using MODPATH 7 for this documentation for modpath can be found here:\n",
    "\n",
    " - MODPATH website - https://www.usgs.gov/software/modpath-a-particle-tracking-model-modflow\n",
    " - MODPATH manual - https://pubs.usgs.gov/of/2016/1086/ofr20161086.pdf\n",
    " - Flopy Documenation - https://modflowpy.github.io/flopydoc/code.html#modpath-packages\n",
    "\n",
    "Some example FloPy Notebooks: \n",
    " - https://github.com/modflowpy/flopy/blob/develop/examples/Notebooks/flopy3_modpath7_structured_example.ipynb\n",
    " - https://github.com/modflowpy/flopy/blob/develop/examples/Notebooks/flopy3_modpath7_create_simulation.ipynb"
   ]
  },
  {
   "cell_type": "markdown",
   "metadata": {},
   "source": [
    "### Setup and Run the particle model "
   ]
  },
  {
   "cell_type": "code",
   "execution_count": 14,
   "metadata": {},
   "outputs": [
    {
     "name": "stdout",
     "output_type": "stream",
     "text": [
      "RechargeModel_Check_mp\n",
      "[0, 25, 50, 75, 100, 125, 150, 175, 200, 225, 250, 275, 300, 325, 350, 375, 400, 425, 450, 475, 500, 525, 550, 575, 600]\n"
     ]
    },
    {
     "ename": "Exception",
     "evalue": "The program /Applications/MODFLOW/mp7 does not exist or is not executable.",
     "output_type": "error",
     "traceback": [
      "\u001b[1;31m---------------------------------------------------------------------------\u001b[0m",
      "\u001b[1;31mException\u001b[0m                                 Traceback (most recent call last)",
      "\u001b[1;32m<ipython-input-14-6eca5bb2abdf>\u001b[0m in \u001b[0;36m<module>\u001b[1;34m\u001b[0m\n\u001b[0;32m     34\u001b[0m \u001b[1;33m\u001b[0m\u001b[0m\n\u001b[0;32m     35\u001b[0m \u001b[1;31m# run modpath\u001b[0m\u001b[1;33m\u001b[0m\u001b[1;33m\u001b[0m\u001b[1;33m\u001b[0m\u001b[0m\n\u001b[1;32m---> 36\u001b[1;33m \u001b[0mmp\u001b[0m\u001b[1;33m.\u001b[0m\u001b[0mrun_model\u001b[0m\u001b[1;33m(\u001b[0m\u001b[1;33m)\u001b[0m\u001b[1;33m\u001b[0m\u001b[1;33m\u001b[0m\u001b[0m\n\u001b[0m",
      "\u001b[1;32mc:\\users\\bensk\\appdata\\local\\programs\\python\\python38\\lib\\site-packages\\flopy\\mbase.py\u001b[0m in \u001b[0;36mrun_model\u001b[1;34m(self, silent, pause, report, normal_msg)\u001b[0m\n\u001b[0;32m   1220\u001b[0m         \"\"\"\n\u001b[0;32m   1221\u001b[0m \u001b[1;33m\u001b[0m\u001b[0m\n\u001b[1;32m-> 1222\u001b[1;33m         return run_model(self.exe_name, self.namefile, model_ws=self.model_ws,\n\u001b[0m\u001b[0;32m   1223\u001b[0m                          \u001b[0msilent\u001b[0m\u001b[1;33m=\u001b[0m\u001b[0msilent\u001b[0m\u001b[1;33m,\u001b[0m \u001b[0mpause\u001b[0m\u001b[1;33m=\u001b[0m\u001b[0mpause\u001b[0m\u001b[1;33m,\u001b[0m \u001b[0mreport\u001b[0m\u001b[1;33m=\u001b[0m\u001b[0mreport\u001b[0m\u001b[1;33m,\u001b[0m\u001b[1;33m\u001b[0m\u001b[1;33m\u001b[0m\u001b[0m\n\u001b[0;32m   1224\u001b[0m                          normal_msg=normal_msg)\n",
      "\u001b[1;32mc:\\users\\bensk\\appdata\\local\\programs\\python\\python38\\lib\\site-packages\\flopy\\mbase.py\u001b[0m in \u001b[0;36mrun_model\u001b[1;34m(exe_name, namefile, model_ws, silent, pause, report, normal_msg, use_async, cargs)\u001b[0m\n\u001b[0;32m   1566\u001b[0m         s = 'The program {} does not exist or is not executable.'.format(\n\u001b[0;32m   1567\u001b[0m             exe_name)\n\u001b[1;32m-> 1568\u001b[1;33m         \u001b[1;32mraise\u001b[0m \u001b[0mException\u001b[0m\u001b[1;33m(\u001b[0m\u001b[0ms\u001b[0m\u001b[1;33m)\u001b[0m\u001b[1;33m\u001b[0m\u001b[1;33m\u001b[0m\u001b[0m\n\u001b[0m\u001b[0;32m   1569\u001b[0m     \u001b[1;32melse\u001b[0m\u001b[1;33m:\u001b[0m\u001b[1;33m\u001b[0m\u001b[1;33m\u001b[0m\u001b[0m\n\u001b[0;32m   1570\u001b[0m         \u001b[1;32mif\u001b[0m \u001b[1;32mnot\u001b[0m \u001b[0msilent\u001b[0m\u001b[1;33m:\u001b[0m\u001b[1;33m\u001b[0m\u001b[1;33m\u001b[0m\u001b[0m\n",
      "\u001b[1;31mException\u001b[0m: The program /Applications/MODFLOW/mp7 does not exist or is not executable."
     ]
    }
   ],
   "source": [
    "moddirmp=\"/Applications/MODFLOW/mp7\"\n",
    "\n",
    "# create basic forward tracking modpath simulation\n",
    "mpname=os.path.join(modelname + '_mp')\n",
    "print(mpname)\n",
    "\n",
    "\n",
    "# Select a set of nodes to add particles too\n",
    "\n",
    "#first make a list of the cells you want to add where cells are specified by ther (layer, row, column)\n",
    "plocs = []\n",
    "for idx in range(nrow):\n",
    "    plocs.append((0, idx, 0))\n",
    "#print(plocs)\n",
    "\n",
    "#then convert these locations to their node numbers\n",
    "nodesr = m.dis.get_node(plocs)\n",
    "print(nodesr)\n",
    "\n",
    "\n",
    "#setup the modpath model starting particles just in the cells you listed and doing backward tracking\n",
    "#mp = flopy.modpath.Modpath7.create_mp7(modelname=mpname, trackdir='backward', flowmodel=m,  \n",
    "#                                       rowcelldivisions=1, columncelldivisions=1, layercelldivisions=1,\n",
    "#                                        exe_name=moddirmp, nodes=nodesr)\n",
    "\n",
    "#setup the modpath model starting particles everywhere and doing forward tracking\n",
    "mp = flopy.modpath.Modpath7.create_mp7(modelname=mpname, trackdir='forward', flowmodel=m,  \n",
    "                                       rowcelldivisions=1, columncelldivisions=1, layercelldivisions=1,\n",
    "                                        exe_name=moddirmp)\n",
    "\n",
    "\n",
    "# write modpath datasets\n",
    "mp.write_input()\n",
    "\n",
    "# run modpath\n",
    "mp.run_model()"
   ]
  },
  {
   "cell_type": "markdown",
   "metadata": {},
   "source": [
    "## 6. Plotting and analysis\n",
    "\n",
    "### Read in particle files"
   ]
  },
  {
   "cell_type": "code",
   "execution_count": null,
   "metadata": {},
   "outputs": [],
   "source": [
    "#load in the flow path file\n",
    "fpth = os.path.join(mpname + '.mppth')\n",
    "p = flopy.utils.PathlineFile(fpth)\n",
    "\n",
    "#load in the end point file\n",
    "fpth = os.path.join(mpname + '.mpend')\n",
    "e = flopy.utils.EndpointFile(fpth, verbose=False)\n",
    "\n",
    "#make a subset which is all the particles\n",
    "pall = p.get_alldata()  #formerly pwb and ewb\n",
    "eall = e.get_alldata()\n",
    "\n",
    "#make a subset which is the partlces that end in the well \n",
    "nodewell = m.dis.get_node([well_loc])\n",
    "print(nodewell)\n",
    "pwell = p.get_destination_pathline_data(dest_cells=nodewell)\n",
    "ewell= e.get_destination_endpoint_data(dest_cells=nodewell)"
   ]
  },
  {
   "cell_type": "markdown",
   "metadata": {},
   "source": [
    "### Plot particle pathlines"
   ]
  },
  {
   "cell_type": "code",
   "execution_count": null,
   "metadata": {},
   "outputs": [],
   "source": [
    "f, axes = plt.subplots(ncols=2, nrows=1, figsize=(10, 5))\n",
    "\n",
    "ax = axes[0]\n",
    "ax.set_aspect('equal')\n",
    "ax.set_title('Flowlines')\n",
    "mm = flopy.plot.PlotMapView(model=m, ax=ax)\n",
    "mm.plot_grid(lw=0.5)\n",
    "mm.plot_pathline(pall, layer='all', color='blue', lw=0.5, linestyle=':', label='not captured by wells') #,marker='o', markercolor='black', markersize=3, markerevery=5)\n",
    "mm.plot_pathline(pwell, layer='all', color='green', lw=0.5, linestyle=':', label='captured by well') # ,marker='o', markercolor='black', markersize=3, markerevery=5)\n",
    "#mm.plot_endpoint(eall, direction='ending', colorbar=True, shrink=0.5);\n",
    "#mm.plot_endpoint(eall, direction='starting')\n",
    "#mm.ax.legend();\n",
    "\n",
    "ax = axes[1]\n",
    "ax.set_aspect('equal')\n",
    "ax.set_title('Well Capture Area')\n",
    "mm = flopy.plot.PlotMapView(model=m, ax=ax)\n",
    "mm.plot_endpoint(ewell, direction='starting', colorbar=True, shrink=0.5);\n",
    "#mm.plot_grid(lw=0.5)\n",
    "#mm.plot_pathline(prb, layer='all', color='green', lw=0.5, linestyle=':', label='captured by rivers')\n",
    "\n",
    "plt.tight_layout();"
   ]
  },
  {
   "cell_type": "markdown",
   "metadata": {},
   "source": [
    "### Read in MODFLOW outputs\n",
    "\n",
    "For information on binary files see: http://modflowpy.github.io/flopydoc/binaryfile.html \n",
    "\n",
    "For information on flow budget files see: \n",
    "http://modflowpy.github.io/flopydoc/binaryfile.html#flopy.utils.binaryfile.CellBudgetFile"
   ]
  },
  {
   "cell_type": "code",
   "execution_count": null,
   "metadata": {},
   "outputs": [],
   "source": [
    "#heads\n",
    "headobj = bf.HeadFile(modelname+'.hds')    #reads the binary head file\n",
    "times = headobj.get_times()                #returns a list of timesteps\n",
    "head = headobj.get_data(totim=times[-1])        #returns a numpy array of heads for specified time (last timestep)\n",
    "\n",
    "#Water balance\n",
    "budgobj = bf.CellBudgetFile(modelname+'.cbc')   #reads the cell budget file    \n",
    "kstpkper_list = budgobj.get_kstpkper()          #returns a list of stress periods & timesteps\n",
    "frf = budgobj.get_data(text='flow right face', totim=1.0) #returns an array of flow rates for right face of cells\n",
    "fff = budgobj.get_data(text='flow front face', totim=1.0) #returns an array of flow rates for front face of cells     \n",
    "         #string options are in the list file under output control (make sure to include spaces!)\n",
    "#print(\"Flow through Right Face of Grid Cells m^3/d \\n\", frf,\n",
    "#     \"\\n Flow through Front Face of Grid Cells m^3/d \\n\", fff)\n",
    "\n",
    "#print('timesteps:', times)         \n",
    "#print('final head:', 'dimensions', np.shape(head), '\\n', head)    \n",
    "#print('initial head:', 'dimensions', np.shape(H_init), '\\n', H_init)\n",
    "#print('well fluxes:', 'dimensions', np.shape(fluxes), '\\n', fluxes)"
   ]
  },
  {
   "cell_type": "markdown",
   "metadata": {},
   "source": [
    "### Plot head transect"
   ]
  },
  {
   "cell_type": "code",
   "execution_count": null,
   "metadata": {},
   "outputs": [],
   "source": [
    "fig4 = plt.figure() \n",
    "x=np.arange(100,2600,100) \n",
    "y=head[0,5,:]\n",
    "plt.plot(x,head[0,12,:],marker='o', color='mediumvioletred', markersize=4, linestyle='--')\n",
    "plt.title('Scatter plot pythonspot.com')\n",
    "plt.xlabel('X location')\n",
    "plt.ylabel('Head')\n",
    "plt.title(\"Head along row 12\")\n",
    "#plt.axvline(x=1200)\n",
    "plt.savefig('Head_Transect.png')\n",
    "\n",
    "hgrad=(head[0,5,0]-head[0,5,-1])/Lx\n",
    "print(\"Head Gradient\", hgrad, \"m/m\") \n"
   ]
  },
  {
   "cell_type": "markdown",
   "metadata": {},
   "source": [
    "### 3D head surface"
   ]
  },
  {
   "cell_type": "code",
   "execution_count": null,
   "metadata": {},
   "outputs": [],
   "source": [
    "#import 3d axes toolkit from matplotlib\n",
    "from mpl_toolkits.mplot3d import Axes3D\n",
    "\n",
    "#create 3d figure\n",
    "fig_3d = plt.figure(figsize=(12,5))\n",
    "ax = fig_3d.gca(projection='3d')\n",
    "\n",
    "#set X, Y, Z variables for 3d plot to be our model domain and head solution\n",
    "X = np.arange(0,Lx,dx)\n",
    "Y = np.arange(0,Ly,dy)\n",
    "X, Y = np.meshgrid(X, Y)\n",
    "Z = np.flipud(head[0])\n",
    "\n",
    "#create surface and labels\n",
    "surf = ax.plot_surface(X,Y,Z, cmap = 'viridis', linewidth=0, label='head')\n",
    "fig_3d.colorbar(surf,shrink=0.5,aspect=5).set_label('Head (m)',fontsize=10,fontweight='bold')\n",
    "ax.set_xlabel('Lx (m)', fontsize=15, fontweight='bold')\n",
    "ax.set_ylabel('Ly (m)', fontsize=15, fontweight='bold')\n",
    "ax.set_title('Steady-State Model Head Profile', fontsize=15, fontweight='bold')\n",
    "#plt.show(surf)\n",
    "plt.savefig('BoxModel_Surface1.png') "
   ]
  },
  {
   "cell_type": "markdown",
   "metadata": {},
   "source": [
    "###  Head Contours"
   ]
  },
  {
   "cell_type": "code",
   "execution_count": null,
   "metadata": {},
   "outputs": [],
   "source": [
    "#plot results\n",
    "fig3=plt.figure(figsize=(10,10)) #create 10 x 10 figure\n",
    "modelmap = flopy.plot.PlotMapView(model=m, layer=0) #use modelmap to attach plot to model\n",
    "#grid = modelmap.plot_grid() #plot model grid\n",
    "qm = modelmap.plot_ibound()  \n",
    "contour_levels = np.linspace(head[0].min(),head[0].max(),11) #set contour levels for contouring head\n",
    "head_contours = modelmap.contour_array(head, levels=contour_levels) #create head contours\n",
    "flows = modelmap.plot_discharge(frf[0], fff[0], head=head) #create discharge arrows\n",
    "\n",
    "#display parameters\n",
    "plt.xlabel('Lx (m)',fontsize = 14)\n",
    "plt.ylabel('Ly (m)',fontsize = 14)\n",
    "plt.title('Steady-State Model, Flow(m^3/d) and Head(m) Results', fontsize = 15, fontweight = 'bold')\n",
    "plt.colorbar(head_contours,aspect=5)\n",
    "#plt.show(modelmap)\n",
    "plt.savefig('BoxModel_vectors.png')   "
   ]
  },
  {
   "cell_type": "code",
   "execution_count": null,
   "metadata": {},
   "outputs": [],
   "source": []
  }
 ],
 "metadata": {
  "kernelspec": {
   "display_name": "Python 3",
   "language": "python",
   "name": "python3"
  },
  "language_info": {
   "codemirror_mode": {
    "name": "ipython",
    "version": 3
   },
   "file_extension": ".py",
   "mimetype": "text/x-python",
   "name": "python",
   "nbconvert_exporter": "python",
   "pygments_lexer": "ipython3",
   "version": "3.8.1"
  }
 },
 "nbformat": 4,
 "nbformat_minor": 2
}
